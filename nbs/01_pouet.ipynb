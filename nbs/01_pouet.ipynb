{
 "cells": [
  {
   "cell_type": "markdown",
   "id": "e42858e8",
   "metadata": {},
   "source": [
    "# Pouet page\n",
    "\n",
    "> Pouet pouet\n",
    "\n",
    "Le poète"
   ]
  },
  {
   "cell_type": "code",
   "execution_count": null,
   "id": "24ddfb58",
   "metadata": {},
   "outputs": [],
   "source": [
    "#| export\n",
    "a = 3\n",
    "print(a)"
   ]
  }
 ],
 "metadata": {
  "kernelspec": {
   "display_name": "nbdev_env",
   "language": "python",
   "name": "nbdev_env"
  }
 },
 "nbformat": 4,
 "nbformat_minor": 5
}
