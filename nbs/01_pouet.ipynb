{
 "cells": [
  {
   "cell_type": "markdown",
   "id": "e42858e8",
   "metadata": {},
   "source": [
    "# Pouet page\n",
    "\n",
    "> Pouet pouet\n",
    "\n",
    "Le poète"
   ]
  },
  {
   "cell_type": "code",
   "execution_count": null,
   "id": "24ddfb58",
   "metadata": {},
   "outputs": [],
   "source": [
    "#| export\n",
    "a = 3\n",
    "print(a)"
   ]
  }
 ],
 "metadata": {
  "kernelspec": {
   "display_name": "nbdev_env",
   "language": "python",
   "name": "nbdev_env"
  },
  "language_info": {
   "codemirror_mode": {
    "name": "ipython",
    "version": 3
   },
   "file_extension": ".py",
   "mimetype": "text/x-python",
   "name": "python",
   "nbconvert_exporter": "python",
   "pygments_lexer": "ipython3",
   "version": "3.11.0"
  }
 },
 "nbformat": 4,
 "nbformat_minor": 5
}
